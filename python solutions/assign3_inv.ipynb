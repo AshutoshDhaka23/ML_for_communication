{
 "cells": [
  {
   "cell_type": "code",
   "execution_count": 4,
   "metadata": {},
   "outputs": [
    {
     "name": "stdout",
     "output_type": "stream",
     "text": [
      "__header__\n",
      "__version__\n",
      "__globals__\n",
      "Gain_cell\n",
      "noise_figure_cell\n",
      "pump_pwer_cell\n",
      "pump_wavelength_cell\n"
     ]
    }
   ],
   "source": [
    "import numpy as np\n",
    "import pandas as pd\n",
    "\n",
    "import scipy.io\n",
    "\n",
    "# Load the .mat file\n",
    "mat_file = scipy.io.loadmat('data_assign3.mat')\n",
    "\n",
    "# List the headers and all keys in the .mat file\n",
    "for key in mat_file.keys():\n",
    "    print(key)\n",
    "\n",
    "# Extract the data from the .mat file\n",
    "gain_mat = mat_file['Gain_cell']\n",
    "\n",
    "# Reshape the data to have 5000 rows and 40 columns\n",
    "reshaped_data = np.array([gain_mat[0][i].flatten() for i in range(5000)])\n",
    "Gain_cell = pd.DataFrame(reshaped_data)\n",
    "Gain_cell.shape\n",
    "\n",
    "power_mat = mat_file['pump_pwer_cell']\n",
    "power_mat = np.array([power_mat[0][i].flatten() for i in range(5000)])\n",
    "power_mat\n",
    "Raman_power = pd.DataFrame(power_mat)\n",
    "Raman_power\n",
    "\n",
    "wavelegnth_mat = mat_file['pump_wavelength_cell']\n",
    "wavelegnth_mat = np.array([wavelegnth_mat[0][i].flatten() for i in range(5000)])\n",
    "wavelegnth_mat\n",
    "Raman_wavelength = pd.DataFrame(wavelegnth_mat)\n",
    "Raman_wavelength\n",
    "\n",
    "Raman_training = np.hstack((Raman_power, Raman_wavelength))\n"
   ]
  },
  {
   "cell_type": "code",
   "execution_count": 5,
   "metadata": {},
   "outputs": [],
   "source": [
    "import torch\n",
    "import numpy as np\n",
    "import matplotlib.pyplot as plt\n",
    "from sklearn.model_selection import train_test_split\n",
    "\n",
    "\n",
    "X = Gain_cell\n",
    "Y = Raman_training\n",
    "\n",
    "X_test, X_train, Y_test, Y_train = train_test_split(X, Y, test_size=0.4, random_state=42)\n",
    "X_test.shape, X_train.shape , Y_test.shape, Y_train.shape\n",
    "\n",
    "X_train = np.array(X_train)\n",
    "X_test = np.array(X_test)\n",
    "X_train_inv = torch.tensor(X_train, dtype=torch.float32)\n",
    "X_test_inv = torch.tensor(X_test, dtype=torch.float32)\n",
    "\n",
    "Y_train = np.array(Y_train)\n",
    "Y_test = np.array(Y_test)\n",
    "Y_train_inv = torch.tensor(Y_train, dtype=torch.float32)\n",
    "Y_test_inv = torch.tensor(Y_test, dtype=torch.float32)"
   ]
  },
  {
   "cell_type": "code",
   "execution_count": 7,
   "metadata": {},
   "outputs": [
    {
     "name": "stdout",
     "output_type": "stream",
     "text": [
      "Test RMSE: tensor(777.0378)\n"
     ]
    }
   ],
   "source": [
    "class MultiLayerNN_inverse:\n",
    "    def __init__(self, input_dim, hidden_dims, output_dim):\n",
    "        self.input_dim = input_dim\n",
    "        self.hidden_dims = hidden_dims\n",
    "        self.output_dim = output_dim\n",
    "\n",
    "        self.hidden_weights = [torch.randn(input_dim if i == 0 else hidden_dims[i - 1], hidden_dims[i]) for i in range(len(hidden_dims))]\n",
    "        self.hidden_biases = [torch.randn(1, hidden_dims[i]) for i in range(len(hidden_dims))]\n",
    "        self.output_weights = None\n",
    "\n",
    "    def forward(self, X):\n",
    "        activations = X\n",
    "        for W, b in zip(self.hidden_weights, self.hidden_biases):\n",
    "            activations = torch.relu(torch.matmul(activations, W) + b)\n",
    "        return activations\n",
    "\n",
    "    def train_last_layer(self, X, Y):\n",
    "        hidden_output = self.forward(X)\n",
    "        pseudo_inverse = torch.pinverse(hidden_output)\n",
    "        self.output_weights = torch.matmul(pseudo_inverse, Y)\n",
    "\n",
    "    def predict(self, X):\n",
    "        hidden_output = self.forward(X)\n",
    "        return torch.matmul(hidden_output, self.output_weights)\n",
    "\n",
    "# Train multiple models for model averaging\n",
    "num_models = 10\n",
    "models = []\n",
    "\n",
    "for _ in range(num_models):\n",
    "    model = MultiLayerNN_inverse(input_dim=40, hidden_dims=[64, 64], output_dim=6)\n",
    "    model.train_last_layer(X_train_inv, Y_train_inv)\n",
    "    models.append(model)\n",
    "\n",
    "# Model averaging function\n",
    "def average_predictions(models, X):\n",
    "    predictions = [model.predict(X) for model in models]\n",
    "    return torch.mean(torch.stack(predictions), dim=0)\n",
    "\n",
    "# Test predictions\n",
    "avg_predictions = average_predictions(models, X_test_inv)  \n",
    "\n",
    "predictions = model.predict(X_test_inv)\n",
    "print(\"Test RMSE:\", torch.sqrt(torch.mean((predictions - Y_test_inv) ** 2)))"
   ]
  },
  {
   "cell_type": "code",
   "execution_count": 8,
   "metadata": {},
   "outputs": [
    {
     "ename": "KeyError",
     "evalue": "'Power 2'",
     "output_type": "error",
     "traceback": [
      "\u001b[1;31m---------------------------------------------------------------------------\u001b[0m",
      "\u001b[1;31mKeyError\u001b[0m                                  Traceback (most recent call last)",
      "Cell \u001b[1;32mIn[8], line 9\u001b[0m\n\u001b[0;32m      6\u001b[0m df_power_reversed \u001b[38;5;241m=\u001b[39m pd\u001b[38;5;241m.\u001b[39mDataFrame(Raman_power_reversed, columns\u001b[38;5;241m=\u001b[39m[\u001b[38;5;124m'\u001b[39m\u001b[38;5;124mPower1\u001b[39m\u001b[38;5;124m'\u001b[39m, \u001b[38;5;124m'\u001b[39m\u001b[38;5;124mPower2\u001b[39m\u001b[38;5;124m'\u001b[39m, \u001b[38;5;124m'\u001b[39m\u001b[38;5;124mPower3\u001b[39m\u001b[38;5;124m'\u001b[39m])\n\u001b[0;32m      7\u001b[0m df_wavelength_reversed \u001b[38;5;241m=\u001b[39m pd\u001b[38;5;241m.\u001b[39mDataFrame(Raman_wavelength_reversed, columns\u001b[38;5;241m=\u001b[39m[\u001b[38;5;124m'\u001b[39m\u001b[38;5;124mWavelength1\u001b[39m\u001b[38;5;124m'\u001b[39m, \u001b[38;5;124m'\u001b[39m\u001b[38;5;124mWavelength2\u001b[39m\u001b[38;5;124m'\u001b[39m, \u001b[38;5;124m'\u001b[39m\u001b[38;5;124mWavelength3\u001b[39m\u001b[38;5;124m'\u001b[39m])\n\u001b[1;32m----> 9\u001b[0m df_pump1 \u001b[38;5;241m=\u001b[39m \u001b[43mRaman_power\u001b[49m\u001b[43m[\u001b[49m\u001b[38;5;124;43m'\u001b[39;49m\u001b[38;5;124;43mPower 2\u001b[39;49m\u001b[38;5;124;43m'\u001b[39;49m\u001b[43m]\u001b[49m\n\u001b[0;32m     10\u001b[0m \u001b[38;5;28mprint\u001b[39m(df_pump1\u001b[38;5;241m.\u001b[39mhead())\n\u001b[0;32m     12\u001b[0m df_pump1_pred \u001b[38;5;241m=\u001b[39m Raman_power_reversed[:, \u001b[38;5;241m1\u001b[39m]\n",
      "File \u001b[1;32mc:\\Users\\adop\\AppData\\Local\\Programs\\Python\\Python311\\Lib\\site-packages\\pandas\\core\\frame.py:4102\u001b[0m, in \u001b[0;36mDataFrame.__getitem__\u001b[1;34m(self, key)\u001b[0m\n\u001b[0;32m   4100\u001b[0m \u001b[38;5;28;01mif\u001b[39;00m \u001b[38;5;28mself\u001b[39m\u001b[38;5;241m.\u001b[39mcolumns\u001b[38;5;241m.\u001b[39mnlevels \u001b[38;5;241m>\u001b[39m \u001b[38;5;241m1\u001b[39m:\n\u001b[0;32m   4101\u001b[0m     \u001b[38;5;28;01mreturn\u001b[39;00m \u001b[38;5;28mself\u001b[39m\u001b[38;5;241m.\u001b[39m_getitem_multilevel(key)\n\u001b[1;32m-> 4102\u001b[0m indexer \u001b[38;5;241m=\u001b[39m \u001b[38;5;28;43mself\u001b[39;49m\u001b[38;5;241;43m.\u001b[39;49m\u001b[43mcolumns\u001b[49m\u001b[38;5;241;43m.\u001b[39;49m\u001b[43mget_loc\u001b[49m\u001b[43m(\u001b[49m\u001b[43mkey\u001b[49m\u001b[43m)\u001b[49m\n\u001b[0;32m   4103\u001b[0m \u001b[38;5;28;01mif\u001b[39;00m is_integer(indexer):\n\u001b[0;32m   4104\u001b[0m     indexer \u001b[38;5;241m=\u001b[39m [indexer]\n",
      "File \u001b[1;32mc:\\Users\\adop\\AppData\\Local\\Programs\\Python\\Python311\\Lib\\site-packages\\pandas\\core\\indexes\\range.py:417\u001b[0m, in \u001b[0;36mRangeIndex.get_loc\u001b[1;34m(self, key)\u001b[0m\n\u001b[0;32m    415\u001b[0m         \u001b[38;5;28;01mraise\u001b[39;00m \u001b[38;5;167;01mKeyError\u001b[39;00m(key) \u001b[38;5;28;01mfrom\u001b[39;00m \u001b[38;5;21;01merr\u001b[39;00m\n\u001b[0;32m    416\u001b[0m \u001b[38;5;28;01mif\u001b[39;00m \u001b[38;5;28misinstance\u001b[39m(key, Hashable):\n\u001b[1;32m--> 417\u001b[0m     \u001b[38;5;28;01mraise\u001b[39;00m \u001b[38;5;167;01mKeyError\u001b[39;00m(key)\n\u001b[0;32m    418\u001b[0m \u001b[38;5;28mself\u001b[39m\u001b[38;5;241m.\u001b[39m_check_indexing_error(key)\n\u001b[0;32m    419\u001b[0m \u001b[38;5;28;01mraise\u001b[39;00m \u001b[38;5;167;01mKeyError\u001b[39;00m(key)\n",
      "\u001b[1;31mKeyError\u001b[0m: 'Power 2'"
     ]
    }
   ],
   "source": [
    "# Reverse the hstack and split the dataset column-wise\n",
    "Raman_power_reversed = Raman_training[:, :3]\n",
    "Raman_wavelength_reversed = Raman_training[:, 3:6]\n",
    "\n",
    "# Convert to DataFrame for better visualization\n",
    "df_power_reversed = pd.DataFrame(Raman_power_reversed, columns=['Power1', 'Power2', 'Power3'])\n",
    "df_wavelength_reversed = pd.DataFrame(Raman_wavelength_reversed, columns=['Wavelength1', 'Wavelength2', 'Wavelength3'])\n",
    "\n",
    "df_pump1 = Raman_power['Power 2']\n",
    "print(df_pump1.head())\n",
    "\n",
    "df_pump1_pred = Raman_power_reversed[:, 1]\n",
    "df_pump1_pred = pd.DataFrame(df_pump1_pred, columns=['Predicted Power 1'])\n",
    "print(df_pump1_pred.head())\n",
    "\n",
    "plt.scatter(df_pump1, df_pump1_pred, alpha=0.5)"
   ]
  },
  {
   "cell_type": "code",
   "execution_count": null,
   "metadata": {},
   "outputs": [],
   "source": []
  }
 ],
 "metadata": {
  "kernelspec": {
   "display_name": "Python 3",
   "language": "python",
   "name": "python3"
  },
  "language_info": {
   "codemirror_mode": {
    "name": "ipython",
    "version": 3
   },
   "file_extension": ".py",
   "mimetype": "text/x-python",
   "name": "python",
   "nbconvert_exporter": "python",
   "pygments_lexer": "ipython3",
   "version": "3.11.5"
  }
 },
 "nbformat": 4,
 "nbformat_minor": 2
}
